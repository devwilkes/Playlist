{
 "cells": [
  {
   "cell_type": "code",
   "execution_count": 2,
   "id": "7d1b6ccb",
   "metadata": {},
   "outputs": [
    {
     "name": "stderr",
     "output_type": "stream",
     "text": [
      "C:\\Users\\Akouavi\\AppData\\Local\\Temp\\ipykernel_8524\\344019041.py:4: DtypeWarning: Columns (0,5,6,7,8,9,10,11,12,13,14,15,16,17,18,19) have mixed types. Specify dtype option on import or set low_memory=False.\n",
      "  df = pd.read_csv(file_path)\n"
     ]
    }
   ],
   "source": [
    "import pandas as pd\n",
    "\n",
    "file_path = 'spotifydata.txt'\n",
    "df = pd.read_csv(file_path)"
   ]
  },
  {
   "cell_type": "code",
   "execution_count": 3,
   "metadata": {},
   "outputs": [
    {
     "data": {
      "text/plain": [
       "<bound method NDFrame.head of                                                                                                                                                                                                                                                                                                                                      <<<<<<< HEAD\n",
       "NaN                                              track_id               artists                album_name                                         track_name                 popularity duration_ms explicit danceability energy key loudness mode speechiness acousticness instrumentalness liveness valence tempo   time_signature  track_genre\n",
       "0.0                                              5SuOikwiRyPMVoIQDJUgSV Gen Hoshino            Comedy                                             Comedy                     73         230666      False    0.676        0.461  1   -6.746   0    0.143       0.0322       1.01e-06         0.358    0.715   87.917  4                  acoustic\n",
       "1.0                                              4qPNDBW1i3p13qLCt0Ki3A Ben Woodward           Ghost (Acoustic)                                   Ghost - Acoustic           55         149610      False    0.42         0.166  1   -17.235  1    0.0763      0.924        5.56e-06         0.101    0.267   77.489  4                  acoustic\n",
       "2.0                                              1iJBSr7s7jYXzM8EGcbK5b Ingrid Michaelson;ZAYN To Begin Again                                     To Begin Again             57         210826      False    0.438        0.359  0   -9.734   1    0.0557      0.21         0.0              0.117    0.12    76.332  4                  acoustic\n",
       "3.0                                              6lfxq3CG4xtTiEg7opyCyx Kina Grannis           Crazy Rich Asians (Original Motion Picture Soun... Can't Help Falling In Love 71         201933      False    0.266        0.0596 0   -18.515  1    0.0363      0.905        7.07e-05         0.132    0.143   181.74  3                  acoustic\n",
       "...                                                                                                                                                                                                                                                                                                                                           ...\n",
       "113996                                           1hIz5L4IB9hN3WRYPOCGPw Rainy Lullaby          #mindfulness - Soft Rain for Mindful Meditation... Water Into Light           22         385000      False    0.174        0.117  0   -18.318  0    0.0401      0.994        0.976            0.105    0.035   85.239  4               world-music\n",
       "113997                                           6x8ZfSoqDjuNa5SVP5QjvX Cesária Evora          Best Of                                            Miss Perfumado             22         271466.0    False    0.629        0.329  0   -10.895  0    0.042       0.867        0.0              0.0839   0.743   132.378 4               world-music\n",
       "113998                                           2e6sXL2bYv4bSz6VTdnfLs Michael W. Smith       Change Your World                                  Friends                    41         283893.0    False    0.587        0.506  7   -10.889  1    0.0297      0.381        0.0              0.27     0.413   135.96  4               world-music\n",
       "113999                                           2hETkH7cOfqmz3LqZDHZf5 Cesária Evora          Miss Perfumado                                     Barbincor                  22         241826      False    0.526        0.487  1   -10.204  0    0.0725      0.681        0.0              0.0893   0.708   79.198  4               world-music\n",
       ">>>>>>> 834d9d86f26fd130d7bcaa65eedee9acb8d2cc21 NaN                    NaN                    NaN                                                NaN                        NaN        NaN         NaN      NaN          NaN    NaN NaN      NaN  NaN         NaN          NaN              NaN      NaN     NaN     NaN                     NaN\n",
       "\n",
       "[228004 rows x 1 columns]>"
      ]
     },
     "execution_count": 3,
     "metadata": {},
     "output_type": "execute_result"
    }
   ],
   "source": [
    "df.head\n"
   ]
  }
 ],
 "metadata": {
  "kernelspec": {
   "display_name": "Python 3 (ipykernel)",
   "language": "python",
   "name": "python3"
  },
  "language_info": {
   "codemirror_mode": {
    "name": "ipython",
    "version": 3
   },
   "file_extension": ".py",
   "mimetype": "text/x-python",
   "name": "python",
   "nbconvert_exporter": "python",
   "pygments_lexer": "ipython3",
   "version": "3.11.5"
  }
 },
 "nbformat": 4,
 "nbformat_minor": 5
}
